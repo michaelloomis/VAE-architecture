{
 "cells": [
  {
   "cell_type": "markdown",
   "id": "593953ed-36b1-4851-9a38-e80d1a113c27",
   "metadata": {},
   "source": [
    "# Dataset Generator for FullDA-FM"
   ]
  },
  {
   "cell_type": "code",
   "execution_count": null,
   "id": "dd88c581-8f80-4104-8c0a-bbb37da85884",
   "metadata": {},
   "outputs": [],
   "source": [
    "__author__ = \"Ludovico Scarton\"\n",
    "__version__= 0.1\n",
    "__email__ = \"ludovico.scarton@gmail.com\""
   ]
  },
  {
   "cell_type": "markdown",
   "id": "fd7e089d-bf30-440d-a431-4b98f0048e51",
   "metadata": {},
   "source": [
    "This is a dataset generator created to support the work of Michael Loomis for training ANN.\n",
    "\n",
    "It can be used to perform:\n",
    "* encoding-decoding $f(𝕯) = \\hat{𝕯}$\n",
    "* regression $f(𝕯) = \\vec{y}$"
   ]
  },
  {
   "cell_type": "code",
   "execution_count": 1,
   "id": "ca60a660-ef7c-432c-b309-397881c2e779",
   "metadata": {
    "tags": []
   },
   "outputs": [],
   "source": [
    "import numpy as np\n",
    "import numpy.typing as npt\n",
    "import matplotlib.pyplot as plt"
   ]
  },
  {
   "cell_type": "code",
   "execution_count": 2,
   "id": "ccd0c100-3503-4cde-9301-dd53c196df94",
   "metadata": {
    "tags": []
   },
   "outputs": [],
   "source": [
    "locations = np.nonzero(np.load('valid_building_location.npy'))"
   ]
  },
  {
   "cell_type": "code",
   "execution_count": 3,
   "id": "3685a6d9-7a1a-48fa-8c95-f83057cbefe1",
   "metadata": {
    "tags": []
   },
   "outputs": [],
   "source": [
    "number_of_generated_samples: int = 5_000_000\n",
    "number_of_survive_samples: int = 50_000"
   ]
  },
  {
   "cell_type": "code",
   "execution_count": 4,
   "id": "877eba9e-aaa0-4a92-a923-30eae9242d73",
   "metadata": {
    "tags": []
   },
   "outputs": [],
   "source": [
    "number_of_locations = len(locations[0])\n",
    "assert number_of_locations == 152"
   ]
  },
  {
   "cell_type": "code",
   "execution_count": 5,
   "id": "91128a83-8838-4c58-82a5-0417a43fde13",
   "metadata": {
    "tags": []
   },
   "outputs": [],
   "source": [
    "def create_dataset(number_of_survive_samples:int, number_of_generated_samples: int, seed=0) -> npt.ArrayLike:\n",
    "    \"\"\"\n",
    "    Create valid design. the map is filled in the 152 valid building locations with values between 0 and 3, where 0 is no voxel and 3 is 3 voxels vertically stucked.\n",
    "\n",
    "    parameters:\n",
    "        number_of_samples (int): number of design samples.\n",
    "        seed: pseudo number generator seed.\n",
    "\n",
    "    return:\n",
    "        𝕯 np.array: tensor of shape [number_of_survive_samples, 30, 30] with valid designs.\n",
    "        y⃗ np.array: vector of shape [number_of_survive_samples] with the fitness values.\n",
    "    \"\"\"\n",
    "    assert number_of_generated_samples > number_of_survive_samples, 'number of generated samples needs to be larger that the one selected'\n",
    "    np.random.seed(seed)\n",
    "    𝐗 = np.random.choice(4, p=[0.8, 0.1, 0.07, 0.03], size = (number_of_generated_samples, number_of_locations))\n",
    "    𝕯 = np.zeros((number_of_generated_samples,30,30), dtype= np.int32)\n",
    "    𝕯[:,locations[0], locations[1]] = 𝐗\n",
    "    y⃗ = np.max(𝕯, axis = 1).sum(axis=1)\n",
    "    ids = np.argsort(y⃗)[:number_of_survive_samples]\n",
    "    return 𝕯[ids], y⃗[ids]\n",
    "    "
   ]
  },
  {
   "cell_type": "code",
   "execution_count": 6,
   "id": "b398de46-b251-4e45-ae11-f608597c78bc",
   "metadata": {
    "tags": []
   },
   "outputs": [],
   "source": [
    "assert np.all(create_dataset(1,2)[0] == create_dataset(1,2)[0]) # test if same seeds provide identical results\n",
    "assert not np.all(create_dataset(1,2)[0] == create_dataset(1,2, seed=1)[0]) # test if different seeds provide different results"
   ]
  },
  {
   "cell_type": "code",
   "execution_count": null,
   "id": "b825f798-bb93-4f8c-8511-f6afd77439c2",
   "metadata": {
    "tags": []
   },
   "outputs": [],
   "source": [
    "A = create_dataset(number_of_survive_samples, number_of_generated_samples)\n",
    "plt.imshow(A[0][0], cmap= 'gray')\n",
    "plt.title(f'example of a valid design with a fitness of {A[1][0]}')\n",
    "plt.show()\n"
   ]
  },
  {
   "cell_type": "markdown",
   "id": "1dbb8899-d100-4136-9413-965437c00e31",
   "metadata": {},
   "source": [
    "Good luck with your project!! =)\n",
    "Ludovico"
   ]
  },
  {
   "cell_type": "code",
   "execution_count": null,
   "id": "c621c3e1-5089-462b-904b-02fae0422566",
   "metadata": {},
   "outputs": [],
   "source": []
  }
 ],
 "metadata": {
  "kernelspec": {
   "display_name": "Python 3 (ipykernel)",
   "language": "python",
   "name": "python3"
  },
  "language_info": {
   "codemirror_mode": {
    "name": "ipython",
    "version": 3
   },
   "file_extension": ".py",
   "mimetype": "text/x-python",
   "name": "python",
   "nbconvert_exporter": "python",
   "pygments_lexer": "ipython3",
   "version": "3.8.17"
  }
 },
 "nbformat": 4,
 "nbformat_minor": 5
}
