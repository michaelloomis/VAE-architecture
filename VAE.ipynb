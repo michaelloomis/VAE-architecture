{
 "cells": [
  {
   "cell_type": "code",
   "execution_count": null,
   "id": "3ba03de2-20f5-4e9a-9d0f-69aa2400f0b5",
   "metadata": {},
   "outputs": [],
   "source": [
    "import numpy as np\n",
    "import torch\n",
    "import torch.nn as nn\n",
    "import torch.optim as optim\n",
    "from torch.utils.data import DataLoader, TensorDataset\n",
    "from torchvision.utils import save_image\n",
    "%run datasetgenerator.ipynb"
   ]
  },
  {
   "cell_type": "code",
   "execution_count": null,
   "id": "a57c607e-30e3-46c2-b887-b97da3ab68ae",
   "metadata": {},
   "outputs": [],
   "source": [
    "class VAE(nn.Module):\n",
    "    def __init__(self, latent_dim):\n",
    "        super(VAE, self).__init__()\n",
    "        \n",
    "        self.encoder = nn.Sequential(\n",
    "            nn.Linear(1800, 1024),\n",
    "            nn.ReLU(),\n",
    "            nn.Linear(1024, 512),\n",
    "            nn.ReLU(),\n",
    "            nn.Linear(512, 256),\n",
    "            nn.ReLU(),\n",
    "            nn.Linear(256, latent_dim * 2)\n",
    "        )\n",
    "        \n",
    "        self.decoder = nn.Sequential(\n",
    "            nn.Linear(latent_dim, 256),\n",
    "            nn.ReLU(),\n",
    "            nn.Linear(256, 512),\n",
    "            nn.ReLU(),\n",
    "            nn.Linear(512, 1024),\n",
    "            nn.ReLU(),\n",
    "            nn.Linear(1024, 1800),\n",
    "            nn.Sigmoid()\n",
    "        )\n",
    "    \n",
    "    def reparameterize(self, mu, logvar):\n",
    "        std = torch.exp(0.5*logvar)\n",
    "        eps = torch.randn_like(std)\n",
    "        return mu + eps*std\n",
    "    \n",
    "    def forward(self, x):\n",
    "        z_params = self.encoder(x)\n",
    "        mu, logvar = z_params.chunk(2, dim=1)\n",
    "        z = self.reparameterize(mu, logvar)\n",
    "        return self.decoder(z), mu, logvar\n"
   ]
  },
  {
   "cell_type": "code",
   "execution_count": null,
   "id": "8bc0aea8-db50-4d47-a6eb-96be06f39df0",
   "metadata": {},
   "outputs": [],
   "source": [
    "# Hyperparameters\n",
    "latent_dim = 20\n",
    "batch_size = 64\n",
    "learning_rate = 1e-3\n",
    "epochs = 50"
   ]
  },
  {
   "cell_type": "code",
   "execution_count": null,
   "id": "689be339-69ec-422a-b71a-2ef3dcd5d1b0",
   "metadata": {},
   "outputs": [],
   "source": [
    "device = torch.device(\"cuda\" if torch.cuda.is_available() else \"cpu\")\n",
    "model = VAE(latent_dim).to(device)\n",
    "optimizer = optim.Adam(model.parameters(), lr=learning_rate)\n"
   ]
  },
  {
   "cell_type": "code",
   "execution_count": null,
   "id": "dab538ff-3f0c-41df-af46-549fe6971a1d",
   "metadata": {},
   "outputs": [],
   "source": [
    "number_of_survive_samples = 2000\n",
    "number_of_generated_samples = 20000\n",
    "data, _ = create_dataset(number_of_survive_samples, number_of_generated_samples)\n",
    "data = torch.FloatTensor(data).view(-1, 1800).to(device)\n",
    "dataset = TensorDataset(data)\n",
    "dataloader = DataLoader(dataset, batch_size=batch_size, shuffle=True)"
   ]
  },
  {
   "cell_type": "code",
   "execution_count": null,
   "id": "4d7ecffc-481a-492d-868e-77ea5928485d",
   "metadata": {},
   "outputs": [],
   "source": [
    "#Loss Function\n",
    "def vae_loss(recon_x, x, mu, logvar):\n",
    "    BCE = nn.BCELoss(reduction='sum')\n",
    "    reconstruction_loss = BCE(recon_x, x)\n",
    "    kl_divergence = -0.5 * torch.sum(1 + logvar - mu.pow(2) - logvar.exp())\n",
    "    return reconstruction_loss + kl_divergence\n"
   ]
  },
  {
   "cell_type": "code",
   "execution_count": null,
   "id": "3882a1bc-fe34-43bb-ab1a-1852551c0c64",
   "metadata": {},
   "outputs": [],
   "source": [
    "for epoch in range(epochs):\n",
    "    total_loss = 0\n",
    "    for batch in dataloader:\n",
    "        batch = batch[0]\n",
    "        optimizer.zero_grad()\n",
    "        recon_batch, mu, logvar = model(batch)\n",
    "        loss = vae_loss(recon_batch, batch, mu, logvar)\n",
    "        loss.backward()\n",
    "        total_loss += loss.item()\n",
    "        optimizer.step()\n",
    "    print(f\"Epoch [{epoch+1}/{epochs}] Loss: {total_loss / len(dataset)}\")\n"
   ]
  },
  {
   "cell_type": "code",
   "execution_count": null,
   "id": "0ec76551-0987-4743-afaa-77ee6dbfa1e4",
   "metadata": {},
   "outputs": [],
   "source": [
    "with torch.no_grad():\n",
    "    z = torch.randn(number_of_survive_samples, latent_dim).to(device)\n",
    "    generated_samples = model.decoder(z).cpu().view(-1, 30, 30)\n"
   ]
  },
  {
   "cell_type": "code",
   "execution_count": null,
   "id": "ae19dfa6-bb90-41d7-97e8-fdedce3948a0",
   "metadata": {},
   "outputs": [],
   "source": [
    "plt.imshow(generated_samples[0], cmap= 'gray')\n",
    "plt.show()"
   ]
  },
  {
   "cell_type": "code",
   "execution_count": null,
   "id": "2b58367d-badc-4768-9ef6-34dcb0683e9e",
   "metadata": {},
   "outputs": [],
   "source": []
  }
 ],
 "metadata": {
  "kernelspec": {
   "display_name": "Python 3 (ipykernel)",
   "language": "python",
   "name": "python3"
  },
  "language_info": {
   "codemirror_mode": {
    "name": "ipython",
    "version": 3
   },
   "file_extension": ".py",
   "mimetype": "text/x-python",
   "name": "python",
   "nbconvert_exporter": "python",
   "pygments_lexer": "ipython3",
   "version": "3.8.17"
  }
 },
 "nbformat": 4,
 "nbformat_minor": 5
}
